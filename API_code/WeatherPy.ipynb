{
 "cells": [
  {
   "cell_type": "markdown",
   "metadata": {},
   "source": [
    "# WeatherPy\n",
    "----\n",
    "\n",
    "### Analysis\n",
    "* As expected, the weather becomes significantly warmer as one approaches the equator (0 Deg. Latitude). More interestingly, however, is the fact that the southern hemisphere tends to be warmer this time of year than the northern hemisphere. This may be due to the tilt of the earth.\n",
    "* There is no strong relationship between latitude and cloudiness. However, it is interesting to see that a strong band of cities sits at 0, 80, and 100% cloudiness.\n",
    "* There is no strong relationship between latitude and wind speed. However, in northern hemispheres there is a flurry of cities with over 20 mph of wind.\n",
    "\n",
    "---\n",
    "\n",
    "#### Note\n",
    "* Instructions have been included for each segment. You do not have to follow them exactly, but they are included to help you think through the steps."
   ]
  },
  {
   "cell_type": "code",
   "execution_count": 6,
   "metadata": {
    "scrolled": true
   },
   "outputs": [
    {
     "name": "stdout",
     "output_type": "stream",
     "text": [
      "01/13/2019\n"
     ]
    }
   ],
   "source": [
    "# Dependencies and Setup\n",
    "import matplotlib.pyplot as plt\n",
    "import pandas as pd\n",
    "import numpy as np\n",
    "import requests\n",
    "import datetime\n",
    "\n",
    "# Import API key\n",
    "from api_keys import api_key\n",
    "\n",
    "# Incorporated citipy to determine city based on latitude and longitude\n",
    "from citipy import citipy\n",
    "\n",
    "# set date for plots\n",
    "now = datetime.datetime.now()\n",
    "date =now.strftime(\"%m/%d/%Y\")\n",
    "\n",
    "# Range of latitudes and longitudes\n",
    "# lat_range = (-90, 90)\n",
    "# lng_range = (-180, 180)"
   ]
  },
  {
   "cell_type": "markdown",
   "metadata": {},
   "source": [
    "## Generate Cities List"
   ]
  },
  {
   "cell_type": "code",
   "execution_count": 7,
   "metadata": {},
   "outputs": [
    {
     "name": "stdout",
     "output_type": "stream",
     "text": [
      "cities:10\n"
     ]
    }
   ],
   "source": [
    "# List for holding lat_lngs and cities\n",
    "lat_lngs = []\n",
    "cities = []\n",
    "\n",
    "# Create a set of random lat and lng combinations\n",
    "lats = np.random.uniform(low=-90.000, high=90.000, size=610)\n",
    "lngs = np.random.uniform(low=-180.000, high=180.000, size=610)\n",
    "lat_lngs = zip(lats, lngs)\n",
    "\n",
    "# Identify nearest city for each lat, lng combination\n",
    "for lat_lng in lat_lngs:\n",
    "    city = citipy.nearest_city(lat_lng[0], lat_lng[1]).city_name\n",
    "\n",
    "    # If the city is unique, then add it to a our cities list\n",
    "    if city not in cities:\n",
    "        cities.append(city.capitalize())\n",
    "\n",
    "# # Print the city count to confirm sufficient count\n",
    "print(f'cities:{len(cities)}')\n"
   ]
  },
  {
   "cell_type": "markdown",
   "metadata": {},
   "source": [
    "### Perform API Calls\n",
    "* Perform a weather check on each city using a series of successive API calls.\n",
    "* Include a print log of each city as it'sbeing processed (with the city number and city name).\n"
   ]
  },
  {
   "cell_type": "code",
   "execution_count": 18,
   "metadata": {},
   "outputs": [
    {
     "name": "stdout",
     "output_type": "stream",
     "text": [
      "Processing record 1 of 10: Atuona\n",
      "Processing record 2 of 10: Chuy\n",
      "Processing record 3 of 10: Nanortalik\n",
      "Processing record 4 of 10: Kargasok\n",
      "Processing record 5 of 10: Shimoda\n",
      "Processing record 6 of 10: Pevek\n",
      "Processing record 7 of 10: Rikitea\n",
      "Processing record 8 of 10: Hasaki\n",
      "Processing record 9 of 10: Nyanguge\n",
      "Processing record 10 of 10: Albany\n"
     ]
    }
   ],
   "source": [
    "# Prepare for API call\n",
    "base_url = \"http://api.openweathermap.org/data/2.5/weather?\"\n",
    "units = \"imperial\"\n",
    "\n",
    "# Create Data Frame\n",
    "city_df = pd.DataFrame()\n",
    "\n",
    "# Iterrate over the list cities\n",
    "x = 1\n",
    "\n",
    "for city in cities:\n",
    "    query_url = f\"{base_url}appid={api_key}&q={city}&units={units}\"\n",
    "    print(f\"Processing record {x} of {len(cities)}: {city}\")\n",
    "\n",
    "# Get the weather data from operweathermap.org\n",
    "    data = requests.get(query_url).json()\n",
    "\n",
    "#  set error exceptions\n",
    "    try:\n",
    "        city_df.loc[x, \"City\"] = data[\"name\"]\n",
    "        city_df.loc[x, \"Country\"] = data['sys']['country']\n",
    "        city_df.loc[x, \"Date\"] = str(data[\"dt\"])\n",
    "        city_df.loc[x, \"Longitude\"] = data[\"coord\"][\"lon\"]\n",
    "        city_df.loc[x, \"Latitude\"] = data[\"coord\"][\"lat\"]\n",
    "        city_df.loc[x, \"Max Temp (F)\"] = data[\"main\"][\"temp_max\"]\n",
    "        city_df.loc[x, \"Humidity (%)\"]= data[\"main\"][\"humidity\"]\n",
    "        city_df.loc[x, \"Cloudiness (%)\"]= data[\"clouds\"][\"all\"]\n",
    "        city_df.loc[x, \"Wind Speed (mph)\"]= data[\"wind\"][\"speed\"]\n",
    "    except:\n",
    "        print(\"Record Not Found\")\n",
    "    x +=1"
   ]
  },
  {
   "cell_type": "markdown",
   "metadata": {},
   "source": [
    "### Convert Raw Data to DataFrame\n",
    "* Export the city data into a .csv.\n",
    "* Display the DataFrame"
   ]
  },
  {
   "cell_type": "code",
   "execution_count": 19,
   "metadata": {},
   "outputs": [
    {
     "data": {
      "text/html": [
       "<div>\n",
       "<style scoped>\n",
       "    .dataframe tbody tr th:only-of-type {\n",
       "        vertical-align: middle;\n",
       "    }\n",
       "\n",
       "    .dataframe tbody tr th {\n",
       "        vertical-align: top;\n",
       "    }\n",
       "\n",
       "    .dataframe thead th {\n",
       "        text-align: right;\n",
       "    }\n",
       "</style>\n",
       "<table border=\"1\" class=\"dataframe\">\n",
       "  <thead>\n",
       "    <tr style=\"text-align: right;\">\n",
       "      <th></th>\n",
       "      <th>City</th>\n",
       "      <th>Country</th>\n",
       "      <th>Date</th>\n",
       "      <th>Longitude</th>\n",
       "      <th>Latitude</th>\n",
       "      <th>Max Temp (F)</th>\n",
       "      <th>Humidity (%)</th>\n",
       "      <th>Cloudiness (%)</th>\n",
       "      <th>Wind Speed (mph)</th>\n",
       "    </tr>\n",
       "  </thead>\n",
       "  <tbody>\n",
       "    <tr>\n",
       "      <th>1</th>\n",
       "      <td>Atuona</td>\n",
       "      <td>PF</td>\n",
       "      <td>1547429948</td>\n",
       "      <td>-139.03</td>\n",
       "      <td>-9.80</td>\n",
       "      <td>81.28</td>\n",
       "      <td>100.0</td>\n",
       "      <td>100.0</td>\n",
       "      <td>14.70</td>\n",
       "    </tr>\n",
       "    <tr>\n",
       "      <th>2</th>\n",
       "      <td>Chuy</td>\n",
       "      <td>UY</td>\n",
       "      <td>1547429804</td>\n",
       "      <td>-53.46</td>\n",
       "      <td>-33.69</td>\n",
       "      <td>71.38</td>\n",
       "      <td>98.0</td>\n",
       "      <td>92.0</td>\n",
       "      <td>10.89</td>\n",
       "    </tr>\n",
       "    <tr>\n",
       "      <th>3</th>\n",
       "      <td>Nanortalik</td>\n",
       "      <td>GL</td>\n",
       "      <td>1547429806</td>\n",
       "      <td>-45.24</td>\n",
       "      <td>60.14</td>\n",
       "      <td>28.54</td>\n",
       "      <td>96.0</td>\n",
       "      <td>80.0</td>\n",
       "      <td>23.35</td>\n",
       "    </tr>\n",
       "    <tr>\n",
       "      <th>4</th>\n",
       "      <td>Kargasok</td>\n",
       "      <td>RU</td>\n",
       "      <td>1547429982</td>\n",
       "      <td>80.87</td>\n",
       "      <td>59.06</td>\n",
       "      <td>15.31</td>\n",
       "      <td>71.0</td>\n",
       "      <td>80.0</td>\n",
       "      <td>8.37</td>\n",
       "    </tr>\n",
       "    <tr>\n",
       "      <th>5</th>\n",
       "      <td>Shimoda</td>\n",
       "      <td>JP</td>\n",
       "      <td>1547427600</td>\n",
       "      <td>138.93</td>\n",
       "      <td>34.70</td>\n",
       "      <td>46.40</td>\n",
       "      <td>100.0</td>\n",
       "      <td>40.0</td>\n",
       "      <td>14.99</td>\n",
       "    </tr>\n",
       "    <tr>\n",
       "      <th>6</th>\n",
       "      <td>Pevek</td>\n",
       "      <td>RU</td>\n",
       "      <td>1547429982</td>\n",
       "      <td>170.27</td>\n",
       "      <td>69.70</td>\n",
       "      <td>-31.67</td>\n",
       "      <td>55.0</td>\n",
       "      <td>0.0</td>\n",
       "      <td>1.99</td>\n",
       "    </tr>\n",
       "    <tr>\n",
       "      <th>7</th>\n",
       "      <td>Rikitea</td>\n",
       "      <td>PF</td>\n",
       "      <td>1547429950</td>\n",
       "      <td>-134.97</td>\n",
       "      <td>-23.12</td>\n",
       "      <td>80.20</td>\n",
       "      <td>97.0</td>\n",
       "      <td>88.0</td>\n",
       "      <td>12.46</td>\n",
       "    </tr>\n",
       "    <tr>\n",
       "      <th>8</th>\n",
       "      <td>Hasaki</td>\n",
       "      <td>JP</td>\n",
       "      <td>1547427600</td>\n",
       "      <td>140.83</td>\n",
       "      <td>35.73</td>\n",
       "      <td>46.40</td>\n",
       "      <td>52.0</td>\n",
       "      <td>20.0</td>\n",
       "      <td>10.29</td>\n",
       "    </tr>\n",
       "    <tr>\n",
       "      <th>9</th>\n",
       "      <td>Nyanguge</td>\n",
       "      <td>TZ</td>\n",
       "      <td>1547424000</td>\n",
       "      <td>33.20</td>\n",
       "      <td>-2.54</td>\n",
       "      <td>73.40</td>\n",
       "      <td>69.0</td>\n",
       "      <td>40.0</td>\n",
       "      <td>8.05</td>\n",
       "    </tr>\n",
       "    <tr>\n",
       "      <th>10</th>\n",
       "      <td>Albany</td>\n",
       "      <td>US</td>\n",
       "      <td>1547428620</td>\n",
       "      <td>-73.75</td>\n",
       "      <td>42.65</td>\n",
       "      <td>14.00</td>\n",
       "      <td>60.0</td>\n",
       "      <td>20.0</td>\n",
       "      <td>8.05</td>\n",
       "    </tr>\n",
       "  </tbody>\n",
       "</table>\n",
       "</div>"
      ],
      "text/plain": [
       "          City Country        Date  Longitude  Latitude  Max Temp (F)  \\\n",
       "1       Atuona      PF  1547429948    -139.03     -9.80         81.28   \n",
       "2         Chuy      UY  1547429804     -53.46    -33.69         71.38   \n",
       "3   Nanortalik      GL  1547429806     -45.24     60.14         28.54   \n",
       "4     Kargasok      RU  1547429982      80.87     59.06         15.31   \n",
       "5      Shimoda      JP  1547427600     138.93     34.70         46.40   \n",
       "6        Pevek      RU  1547429982     170.27     69.70        -31.67   \n",
       "7      Rikitea      PF  1547429950    -134.97    -23.12         80.20   \n",
       "8       Hasaki      JP  1547427600     140.83     35.73         46.40   \n",
       "9     Nyanguge      TZ  1547424000      33.20     -2.54         73.40   \n",
       "10      Albany      US  1547428620     -73.75     42.65         14.00   \n",
       "\n",
       "    Humidity (%)  Cloudiness (%)  Wind Speed (mph)  \n",
       "1          100.0           100.0             14.70  \n",
       "2           98.0            92.0             10.89  \n",
       "3           96.0            80.0             23.35  \n",
       "4           71.0            80.0              8.37  \n",
       "5          100.0            40.0             14.99  \n",
       "6           55.0             0.0              1.99  \n",
       "7           97.0            88.0             12.46  \n",
       "8           52.0            20.0             10.29  \n",
       "9           69.0            40.0              8.05  \n",
       "10          60.0            20.0              8.05  "
      ]
     },
     "execution_count": 19,
     "metadata": {},
     "output_type": "execute_result"
    }
   ],
   "source": [
    "# Export the data into a csx\n",
    "city_df.to_csv(\"output_data/cities.csv\")\n",
    "\n",
    "# Display the DataFrame\n",
    "city_df.head(10)"
   ]
  },
  {
   "cell_type": "code",
   "execution_count": 10,
   "metadata": {},
   "outputs": [
    {
     "data": {
      "text/plain": [
       "City                10\n",
       "Country             10\n",
       "Date                10\n",
       "Longitude           10\n",
       "Latitude            10\n",
       "Max Temp (F)        10\n",
       "Humidity (%)        10\n",
       "Cloudiness (%)      10\n",
       "Wind Speed (mph)    10\n",
       "dtype: int64"
      ]
     },
     "execution_count": 10,
     "metadata": {},
     "output_type": "execute_result"
    }
   ],
   "source": [
    "# confirm sufficient count\n",
    "city_df.count()"
   ]
  },
  {
   "cell_type": "markdown",
   "metadata": {},
   "source": [
    "### Plotting the Data\n",
    "* Use proper labeling of the plots using plot titles (including date of analysis) and axes labels.\n",
    "* Save the plotted figures as .pngs."
   ]
  },
  {
   "cell_type": "markdown",
   "metadata": {},
   "source": [
    "#### Latitude vs. Temperature Plot"
   ]
  },
  {
   "cell_type": "code",
   "execution_count": 14,
   "metadata": {},
   "outputs": [
    {
     "data": {
      "image/png": "[encoded data removed]",
      "text/plain": [
       "<Figure size 432x288 with 1 Axes>"
      ]
     },
     "metadata": {
      "needs_background": "light"
     },
     "output_type": "display_data"
    }
   ],
   "source": [
    "temp = city_df.plot.scatter(x=\"Latitude\", y=\"Max Temp (F)\", title=f\"City Latitude vs. Max Temperature ({date})\",\n",
    "                 c=\"red\", edgecolor=\"black\", grid=True, s=35)\n",
    "plt.savefig(\"output_data/Temp.png\")"
   ]
  },
  {
   "cell_type": "markdown",
   "metadata": {},
   "source": [
    "#### Latitude vs. Humidity Plot"
   ]
  },
  {
   "cell_type": "code",
   "execution_count": 15,
   "metadata": {},
   "outputs": [
    {
     "data": {
      "image/png": "[encoded data removed]",
      "text/plain": [
       "<Figure size 432x288 with 1 Axes>"
      ]
     },
     "metadata": {
      "needs_background": "light"
     },
     "output_type": "display_data"
    }
   ],
   "source": [
    "hum = city_df.plot.scatter(x=\"Latitude\", y=\"Humidity (%)\", c=\"sienna\", title=f\"City Latitude vs. Humidity ({date})\",\n",
    "                           edgecolor=\"black\", grid=True, s=35)\n",
    "plt.savefig(\"output_data/Humidity.png\")"
   ]
  },
  {
   "cell_type": "markdown",
   "metadata": {},
   "source": [
    "#### Latitude vs. Cloudiness Plot"
   ]
  },
  {
   "cell_type": "code",
   "execution_count": 16,
   "metadata": {},
   "outputs": [
    {
     "data": {
      "image/png": "[encoded data removed]",
      "text/plain": [
       "<Figure size 432x288 with 1 Axes>"
      ]
     },
     "metadata": {
      "needs_background": "light"
     },
     "output_type": "display_data"
    }
   ],
   "source": [
    "cloud = city_df.plot.scatter(x=\"Latitude\", y=\"Cloudiness (%)\", c=\"blue\", title=f\"City Latitude vs. Cloudiness ({date})\",\n",
    "                            edgecolor=\"black\", grid=True, s=35)\n",
    "plt.savefig(\"output_data/Cloud.png\")"
   ]
  },
  {
   "cell_type": "markdown",
   "metadata": {},
   "source": [
    "#### Latitude vs. Wind Speed Plot"
   ]
  },
  {
   "cell_type": "code",
   "execution_count": 17,
   "metadata": {},
   "outputs": [
    {
     "data": {
      "image/png": "[encoded data removed]",
      "text/plain": [
       "<Figure size 432x288 with 1 Axes>"
      ]
     },
     "metadata": {
      "needs_background": "light"
     },
     "output_type": "display_data"
    }
   ],
   "source": [
    "wind = city_df.plot.scatter(x=\"Latitude\", y=\"Wind Speed (mph)\", c=\"slategray\", title=f\"City Latitude vs. Wind Speed ({date})\",\n",
    "                        edgecolor=\"black\", grid=True, s=35)\n",
    "plt.savefig(\"output_data/Wind.png\")"
   ]
  },
  {
   "cell_type": "code",
   "execution_count": null,
   "metadata": {},
   "outputs": [],
   "source": []
  }
 ],
 "metadata": {
  "anaconda-cloud": {},
  "kernelspec": {
   "display_name": "Python 3",
   "language": "python",
   "name": "python3"
  },
  "language_info": {
   "codemirror_mode": {
    "name": "ipython",
    "version": 3
   },
   "file_extension": ".py",
   "mimetype": "text/x-python",
   "name": "python",
   "nbconvert_exporter": "python",
   "pygments_lexer": "ipython3",
   "version": "3.6.6"
  }
 },
 "nbformat": 4,
 "nbformat_minor": 2
}
